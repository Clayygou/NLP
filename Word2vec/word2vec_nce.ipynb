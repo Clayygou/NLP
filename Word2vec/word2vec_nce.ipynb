{
 "cells": [
  {
   "cell_type": "code",
   "execution_count": 1,
   "metadata": {},
   "outputs": [],
   "source": [
    "'''\n",
    "  code by Tae Hwan Jung(Jeff Jung) @graykode\n",
    "  reference : https://github.com/golbin/TensorFlow-Tutorials/blob/master/04%20-%20Neural%20Network%20Basic/03%20-%20Word2Vec.py\n",
    "'''\n",
    "import tensorflow as tf\n",
    "import matplotlib.pyplot as plt\n",
    "import numpy as np\n",
    "\n",
    "tf.reset_default_graph()\n"
   ]
  },
  {
   "cell_type": "code",
   "execution_count": 2,
   "metadata": {
    "scrolled": true
   },
   "outputs": [
    {
     "data": {
      "text/plain": [
       "['i',\n",
       " 'like',\n",
       " 'dog',\n",
       " 'i',\n",
       " 'like',\n",
       " 'cat',\n",
       " 'i',\n",
       " 'like',\n",
       " 'animal',\n",
       " 'dog',\n",
       " 'cat',\n",
       " 'animal',\n",
       " 'apple',\n",
       " 'cat',\n",
       " 'dog',\n",
       " 'like',\n",
       " 'dog',\n",
       " 'fish',\n",
       " 'milk',\n",
       " 'like',\n",
       " 'dog',\n",
       " 'cat',\n",
       " 'eyes',\n",
       " 'like',\n",
       " 'i',\n",
       " 'like',\n",
       " 'apple',\n",
       " 'apple',\n",
       " 'i',\n",
       " 'hate',\n",
       " 'apple',\n",
       " 'i',\n",
       " 'movie',\n",
       " 'book',\n",
       " 'music',\n",
       " 'like',\n",
       " 'cat',\n",
       " 'dog',\n",
       " 'hate',\n",
       " 'cat',\n",
       " 'dog',\n",
       " 'like']"
      ]
     },
     "execution_count": 2,
     "metadata": {},
     "output_type": "execute_result"
    }
   ],
   "source": [
    "# 3 Words Sentence\n",
    "sentences = [ \"i like dog\", \"i like cat\", \"i like animal\",\n",
    "              \"dog cat animal\", \"apple cat dog like\", \"dog fish milk like\",\n",
    "              \"dog cat eyes like\", \"i like apple\", \"apple i hate\",\n",
    "              \"apple i movie book music like\", \"cat dog hate\", \"cat dog like\"]\n",
    "\n",
    "word_sequence = \" \".join(sentences).split()\n",
    "word_sequence"
   ]
  },
  {
   "cell_type": "code",
   "execution_count": 3,
   "metadata": {
    "scrolled": true
   },
   "outputs": [
    {
     "data": {
      "text/plain": [
       "['i',\n",
       " 'like',\n",
       " 'dog',\n",
       " 'i',\n",
       " 'like',\n",
       " 'cat',\n",
       " 'i',\n",
       " 'like',\n",
       " 'animal',\n",
       " 'dog',\n",
       " 'cat',\n",
       " 'animal',\n",
       " 'apple',\n",
       " 'cat',\n",
       " 'dog',\n",
       " 'like',\n",
       " 'dog',\n",
       " 'fish',\n",
       " 'milk',\n",
       " 'like',\n",
       " 'dog',\n",
       " 'cat',\n",
       " 'eyes',\n",
       " 'like',\n",
       " 'i',\n",
       " 'like',\n",
       " 'apple',\n",
       " 'apple',\n",
       " 'i',\n",
       " 'hate',\n",
       " 'apple',\n",
       " 'i',\n",
       " 'movie',\n",
       " 'book',\n",
       " 'music',\n",
       " 'like',\n",
       " 'cat',\n",
       " 'dog',\n",
       " 'hate',\n",
       " 'cat',\n",
       " 'dog',\n",
       " 'like']"
      ]
     },
     "execution_count": 3,
     "metadata": {},
     "output_type": "execute_result"
    }
   ],
   "source": [
    "word_list = \" \".join(sentences).split()\n",
    "word_list"
   ]
  },
  {
   "cell_type": "code",
   "execution_count": 4,
   "metadata": {},
   "outputs": [
    {
     "data": {
      "text/plain": [
       "{'fish': 0,\n",
       " 'milk': 1,\n",
       " 'book': 2,\n",
       " 'i': 3,\n",
       " 'like': 4,\n",
       " 'dog': 5,\n",
       " 'eyes': 6,\n",
       " 'hate': 7,\n",
       " 'movie': 8,\n",
       " 'cat': 9,\n",
       " 'animal': 10,\n",
       " 'apple': 11,\n",
       " 'music': 12}"
      ]
     },
     "execution_count": 4,
     "metadata": {},
     "output_type": "execute_result"
    }
   ],
   "source": [
    "word_list = list(set(word_list))\n",
    "word_dict = {w: i for i, w in enumerate(word_list)}\n",
    "word_dict"
   ]
  },
  {
   "cell_type": "code",
   "execution_count": 5,
   "metadata": {},
   "outputs": [
    {
     "data": {
      "text/plain": [
       "13"
      ]
     },
     "execution_count": 5,
     "metadata": {},
     "output_type": "execute_result"
    }
   ],
   "source": [
    "# Word2Vec Parameter\n",
    "batch_size = 20\n",
    "embedding_size = 2 # To show 2 dim embedding graph\n",
    "num_sampled = 10 # for negative sampling, less than batch_size\n",
    "voc_size = len(word_list)\n",
    "voc_size"
   ]
  },
  {
   "cell_type": "code",
   "execution_count": 6,
   "metadata": {},
   "outputs": [],
   "source": [
    "# 一段话随机选择 一个词 为训练数据 下一个词为测试数据\n",
    "def random_batch(data, size):\n",
    "    random_inputs = []\n",
    "    random_labels = []\n",
    "    random_index = np.random.choice(range(len(data)), size, replace=False)\n",
    "\n",
    "    for i in random_index:\n",
    "        random_inputs.append(data[i][0])  # target\n",
    "        random_labels.append([data[i][1]])  # context word\n",
    "\n",
    "    return random_inputs, random_labels"
   ]
  },
  {
   "cell_type": "code",
   "execution_count": 7,
   "metadata": {},
   "outputs": [],
   "source": [
    "# Make skip gram of one size window\n",
    "# 目标是随机选择的词，w 是上下文相连的词\n",
    "skip_grams = []\n",
    "for i in range(1, len(word_sequence) - 1):\n",
    "    target = word_dict[word_sequence[i]]\n",
    "    context = [word_dict[word_sequence[i - 1]], word_dict[word_sequence[i + 1]]]\n",
    "\n",
    "    for w in context:\n",
    "        skip_grams.append([target, w])"
   ]
  },
  {
   "cell_type": "code",
   "execution_count": 8,
   "metadata": {},
   "outputs": [
    {
     "name": "stdout",
     "output_type": "stream",
     "text": [
      "WARNING:tensorflow:From G:\\tools\\Anaconda\\lib\\site-packages\\tensorflow\\python\\framework\\op_def_library.py:263: colocate_with (from tensorflow.python.framework.ops) is deprecated and will be removed in a future version.\n",
      "Instructions for updating:\n",
      "Colocations handled automatically by placer.\n",
      "WARNING:tensorflow:From G:\\tools\\Anaconda\\lib\\site-packages\\tensorflow\\python\\ops\\array_grad.py:425: to_int32 (from tensorflow.python.ops.math_ops) is deprecated and will be removed in a future version.\n",
      "Instructions for updating:\n",
      "Use tf.cast instead.\n"
     ]
    }
   ],
   "source": [
    "# Model\n",
    "inputs = tf.placeholder(tf.int32, shape=[batch_size])\n",
    "labels = tf.placeholder(tf.int32, shape=[batch_size, 1]) # To use tf.nn.nce_loss, [batch_size, 1]\n",
    "\n",
    "embeddings = tf.Variable(tf.random_uniform([voc_size, embedding_size], -1.0, 1.0))\n",
    "selected_embed = tf.nn.embedding_lookup(embeddings, inputs)  # 把输入对应成2维的 \n",
    "\n",
    "nce_weights = tf.Variable(tf.random_uniform([voc_size, embedding_size], -1.0, 1.0))  # 共有voc_size个类别，embedding_size为2维的\n",
    "nce_biases = tf.Variable(tf.zeros([voc_size]))\n",
    "\n",
    "# Loss and optimizer\n",
    "cost = tf.reduce_mean(tf.nn.nce_loss(nce_weights, nce_biases, labels, selected_embed, num_sampled, voc_size)) # num_Sampled 对应负样本的个数\n",
    "optimizer = tf.train.AdamOptimizer(0.001).minimize(cost)"
   ]
  },
  {
   "cell_type": "code",
   "execution_count": 9,
   "metadata": {},
   "outputs": [
    {
     "name": "stdout",
     "output_type": "stream",
     "text": [
      "Epoch: 1000 cost = 3.328975\n",
      "Epoch: 2000 cost = 3.007651\n",
      "Epoch: 3000 cost = 2.848083\n",
      "Epoch: 4000 cost = 3.069819\n",
      "Epoch: 5000 cost = 3.057447\n",
      "Epoch: 6000 cost = 2.807050\n",
      "Epoch: 7000 cost = 2.441884\n",
      "Epoch: 8000 cost = 2.486839\n",
      "Epoch: 9000 cost = 2.864729\n",
      "Epoch: 10000 cost = 2.774954\n"
     ]
    },
    {
     "data": {
      "image/png": "[encoded data removed]",
      "text/plain": [
       "<Figure size 432x288 with 1 Axes>"
      ]
     },
     "metadata": {
      "needs_background": "light"
     },
     "output_type": "display_data"
    }
   ],
   "source": [
    "# Training\n",
    "with tf.Session() as sess:\n",
    "    init = tf.global_variables_initializer()\n",
    "    sess.run(init)\n",
    "\n",
    "    for epoch in range(10000):\n",
    "        batch_inputs, batch_labels = random_batch(skip_grams, batch_size)\n",
    "        _, loss = sess.run([optimizer, cost], feed_dict={inputs: batch_inputs, labels: batch_labels})\n",
    "\n",
    "        if (epoch + 1) % 1000 == 0:\n",
    "            print('Epoch:', '%04d' % (epoch + 1), 'cost =', '{:.6f}'.format(loss))\n",
    "\n",
    "    trained_embeddings = embeddings.eval()\n",
    "\n",
    "for i, label in enumerate(word_list):\n",
    "    x, y = trained_embeddings[i]\n",
    "    plt.scatter(x, y)\n",
    "    plt.annotate(label, xy=(x, y), xytext=(5, 2), textcoords='offset points', ha='right', va='bottom')\n",
    "plt.show()"
   ]
  },
  {
   "cell_type": "markdown",
   "metadata": {},
   "source": [
    "# 还需要进一步理解word2vec"
   ]
  },
  {
   "cell_type": "code",
   "execution_count": null,
   "metadata": {},
   "outputs": [],
   "source": []
  }
 ],
 "metadata": {
  "kernelspec": {
   "display_name": "Python 3",
   "language": "python",
   "name": "python3"
  },
  "language_info": {
   "codemirror_mode": {
    "name": "ipython",
    "version": 3
   },
   "file_extension": ".py",
   "mimetype": "text/x-python",
   "name": "python",
   "nbconvert_exporter": "python",
   "pygments_lexer": "ipython3",
   "version": "3.6.6"
  }
 },
 "nbformat": 4,
 "nbformat_minor": 2
}
